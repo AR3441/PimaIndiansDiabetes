{
 "cells": [
  {
   "cell_type": "code",
   "execution_count": 1,
   "metadata": {},
   "outputs": [],
   "source": [
    "import pandas as pd\n",
    "import numpy as np\n",
    "import seaborn as sns\n",
    "import matplotlib.pyplot as plt"
   ]
  },
  {
   "cell_type": "code",
   "execution_count": 2,
   "metadata": {},
   "outputs": [],
   "source": [
    "df = pd.read_csv('diabetes.csv')"
   ]
  },
  {
   "cell_type": "code",
   "execution_count": 22,
   "metadata": {},
   "outputs": [
    {
     "data": {
      "text/plain": [
       "<matplotlib.axes._subplots.AxesSubplot at 0x1758d54eac8>"
      ]
     },
     "execution_count": 22,
     "metadata": {},
     "output_type": "execute_result"
    },
    {
     "data": {
      "image/png": "[encoded data removed]",
      "text/plain": [
       "<Figure size 648x432 with 2 Axes>"
      ]
     },
     "metadata": {
      "needs_background": "light"
     },
     "output_type": "display_data"
    }
   ],
   "source": [
    "#Checking correlation between predictors and outcome, nothing is overly correlated. \n",
    "plt.figure(figsize = (9,6))\n",
    "corr = df.corr()\n",
    "mask = np.zeros_like(corr, dtype = np.bool)\n",
    "mask[np.triu_indices_from(mask)] = True\n",
    "sns.heatmap(df.corr(),square = True, mask = mask)"
   ]
  },
  {
   "cell_type": "code",
   "execution_count": 3,
   "metadata": {},
   "outputs": [
    {
     "data": {
      "text/html": [
       "<div>\n",
       "<style scoped>\n",
       "    .dataframe tbody tr th:only-of-type {\n",
       "        vertical-align: middle;\n",
       "    }\n",
       "\n",
       "    .dataframe tbody tr th {\n",
       "        vertical-align: top;\n",
       "    }\n",
       "\n",
       "    .dataframe thead th {\n",
       "        text-align: right;\n",
       "    }\n",
       "</style>\n",
       "<table border=\"1\" class=\"dataframe\">\n",
       "  <thead>\n",
       "    <tr style=\"text-align: right;\">\n",
       "      <th></th>\n",
       "      <th>Pregnancies</th>\n",
       "      <th>Glucose</th>\n",
       "      <th>BloodPressure</th>\n",
       "      <th>SkinThickness</th>\n",
       "      <th>Insulin</th>\n",
       "      <th>BMI</th>\n",
       "      <th>DiabetesPedigreeFunction</th>\n",
       "      <th>Age</th>\n",
       "      <th>Outcome</th>\n",
       "    </tr>\n",
       "  </thead>\n",
       "  <tbody>\n",
       "    <tr>\n",
       "      <th>0</th>\n",
       "      <td>6</td>\n",
       "      <td>148</td>\n",
       "      <td>72</td>\n",
       "      <td>35</td>\n",
       "      <td>0</td>\n",
       "      <td>33.6</td>\n",
       "      <td>0.627</td>\n",
       "      <td>50</td>\n",
       "      <td>1</td>\n",
       "    </tr>\n",
       "    <tr>\n",
       "      <th>1</th>\n",
       "      <td>1</td>\n",
       "      <td>85</td>\n",
       "      <td>66</td>\n",
       "      <td>29</td>\n",
       "      <td>0</td>\n",
       "      <td>26.6</td>\n",
       "      <td>0.351</td>\n",
       "      <td>31</td>\n",
       "      <td>0</td>\n",
       "    </tr>\n",
       "    <tr>\n",
       "      <th>2</th>\n",
       "      <td>8</td>\n",
       "      <td>183</td>\n",
       "      <td>64</td>\n",
       "      <td>0</td>\n",
       "      <td>0</td>\n",
       "      <td>23.3</td>\n",
       "      <td>0.672</td>\n",
       "      <td>32</td>\n",
       "      <td>1</td>\n",
       "    </tr>\n",
       "    <tr>\n",
       "      <th>3</th>\n",
       "      <td>1</td>\n",
       "      <td>89</td>\n",
       "      <td>66</td>\n",
       "      <td>23</td>\n",
       "      <td>94</td>\n",
       "      <td>28.1</td>\n",
       "      <td>0.167</td>\n",
       "      <td>21</td>\n",
       "      <td>0</td>\n",
       "    </tr>\n",
       "    <tr>\n",
       "      <th>4</th>\n",
       "      <td>0</td>\n",
       "      <td>137</td>\n",
       "      <td>40</td>\n",
       "      <td>35</td>\n",
       "      <td>168</td>\n",
       "      <td>43.1</td>\n",
       "      <td>2.288</td>\n",
       "      <td>33</td>\n",
       "      <td>1</td>\n",
       "    </tr>\n",
       "    <tr>\n",
       "      <th>5</th>\n",
       "      <td>5</td>\n",
       "      <td>116</td>\n",
       "      <td>74</td>\n",
       "      <td>0</td>\n",
       "      <td>0</td>\n",
       "      <td>25.6</td>\n",
       "      <td>0.201</td>\n",
       "      <td>30</td>\n",
       "      <td>0</td>\n",
       "    </tr>\n",
       "    <tr>\n",
       "      <th>6</th>\n",
       "      <td>3</td>\n",
       "      <td>78</td>\n",
       "      <td>50</td>\n",
       "      <td>32</td>\n",
       "      <td>88</td>\n",
       "      <td>31.0</td>\n",
       "      <td>0.248</td>\n",
       "      <td>26</td>\n",
       "      <td>1</td>\n",
       "    </tr>\n",
       "    <tr>\n",
       "      <th>7</th>\n",
       "      <td>10</td>\n",
       "      <td>115</td>\n",
       "      <td>0</td>\n",
       "      <td>0</td>\n",
       "      <td>0</td>\n",
       "      <td>35.3</td>\n",
       "      <td>0.134</td>\n",
       "      <td>29</td>\n",
       "      <td>0</td>\n",
       "    </tr>\n",
       "    <tr>\n",
       "      <th>8</th>\n",
       "      <td>2</td>\n",
       "      <td>197</td>\n",
       "      <td>70</td>\n",
       "      <td>45</td>\n",
       "      <td>543</td>\n",
       "      <td>30.5</td>\n",
       "      <td>0.158</td>\n",
       "      <td>53</td>\n",
       "      <td>1</td>\n",
       "    </tr>\n",
       "    <tr>\n",
       "      <th>9</th>\n",
       "      <td>8</td>\n",
       "      <td>125</td>\n",
       "      <td>96</td>\n",
       "      <td>0</td>\n",
       "      <td>0</td>\n",
       "      <td>0.0</td>\n",
       "      <td>0.232</td>\n",
       "      <td>54</td>\n",
       "      <td>1</td>\n",
       "    </tr>\n",
       "    <tr>\n",
       "      <th>10</th>\n",
       "      <td>4</td>\n",
       "      <td>110</td>\n",
       "      <td>92</td>\n",
       "      <td>0</td>\n",
       "      <td>0</td>\n",
       "      <td>37.6</td>\n",
       "      <td>0.191</td>\n",
       "      <td>30</td>\n",
       "      <td>0</td>\n",
       "    </tr>\n",
       "    <tr>\n",
       "      <th>11</th>\n",
       "      <td>10</td>\n",
       "      <td>168</td>\n",
       "      <td>74</td>\n",
       "      <td>0</td>\n",
       "      <td>0</td>\n",
       "      <td>38.0</td>\n",
       "      <td>0.537</td>\n",
       "      <td>34</td>\n",
       "      <td>1</td>\n",
       "    </tr>\n",
       "    <tr>\n",
       "      <th>12</th>\n",
       "      <td>10</td>\n",
       "      <td>139</td>\n",
       "      <td>80</td>\n",
       "      <td>0</td>\n",
       "      <td>0</td>\n",
       "      <td>27.1</td>\n",
       "      <td>1.441</td>\n",
       "      <td>57</td>\n",
       "      <td>0</td>\n",
       "    </tr>\n",
       "    <tr>\n",
       "      <th>13</th>\n",
       "      <td>1</td>\n",
       "      <td>189</td>\n",
       "      <td>60</td>\n",
       "      <td>23</td>\n",
       "      <td>846</td>\n",
       "      <td>30.1</td>\n",
       "      <td>0.398</td>\n",
       "      <td>59</td>\n",
       "      <td>1</td>\n",
       "    </tr>\n",
       "    <tr>\n",
       "      <th>14</th>\n",
       "      <td>5</td>\n",
       "      <td>166</td>\n",
       "      <td>72</td>\n",
       "      <td>19</td>\n",
       "      <td>175</td>\n",
       "      <td>25.8</td>\n",
       "      <td>0.587</td>\n",
       "      <td>51</td>\n",
       "      <td>1</td>\n",
       "    </tr>\n",
       "  </tbody>\n",
       "</table>\n",
       "</div>"
      ],
      "text/plain": [
       "    Pregnancies  Glucose  BloodPressure  SkinThickness  Insulin   BMI  \\\n",
       "0             6      148             72             35        0  33.6   \n",
       "1             1       85             66             29        0  26.6   \n",
       "2             8      183             64              0        0  23.3   \n",
       "3             1       89             66             23       94  28.1   \n",
       "4             0      137             40             35      168  43.1   \n",
       "5             5      116             74              0        0  25.6   \n",
       "6             3       78             50             32       88  31.0   \n",
       "7            10      115              0              0        0  35.3   \n",
       "8             2      197             70             45      543  30.5   \n",
       "9             8      125             96              0        0   0.0   \n",
       "10            4      110             92              0        0  37.6   \n",
       "11           10      168             74              0        0  38.0   \n",
       "12           10      139             80              0        0  27.1   \n",
       "13            1      189             60             23      846  30.1   \n",
       "14            5      166             72             19      175  25.8   \n",
       "\n",
       "    DiabetesPedigreeFunction  Age  Outcome  \n",
       "0                      0.627   50        1  \n",
       "1                      0.351   31        0  \n",
       "2                      0.672   32        1  \n",
       "3                      0.167   21        0  \n",
       "4                      2.288   33        1  \n",
       "5                      0.201   30        0  \n",
       "6                      0.248   26        1  \n",
       "7                      0.134   29        0  \n",
       "8                      0.158   53        1  \n",
       "9                      0.232   54        1  \n",
       "10                     0.191   30        0  \n",
       "11                     0.537   34        1  \n",
       "12                     1.441   57        0  \n",
       "13                     0.398   59        1  \n",
       "14                     0.587   51        1  "
      ]
     },
     "execution_count": 3,
     "metadata": {},
     "output_type": "execute_result"
    }
   ],
   "source": [
    "df.head(15)"
   ]
  },
  {
   "cell_type": "markdown",
   "metadata": {},
   "source": [
    "More information on predictors:\n",
    "    Pregnancies: Number of times pregnant\n",
    "    Glucose: Plasma glucose concentration a 2 hours in an oral glucose tolerance test\n",
    "    BloodPressure: Diastolic blood pressure (mm Hg)\n",
    "    SkinThickness: Triceps skin fold thickness (mm)\n",
    "    Insulin: 2-Hour serum insulin (mu U/ml)\n",
    "    BMI: Body mass index (weight in kg/(height in m)^2)\n",
    "    DiabetesPedigreeFunction: Diabetes pedigree function(a measure of the hereditary risk one might have of getting    diabetes)\n",
    "    Age: Age (years)\n",
    "    Outcome: Class variable (0 or 1)"
   ]
  },
  {
   "cell_type": "code",
   "execution_count": 7,
   "metadata": {},
   "outputs": [
    {
     "data": {
      "text/plain": [
       "Pregnancies                   int64\n",
       "Glucose                       int64\n",
       "BloodPressure                 int64\n",
       "SkinThickness                 int64\n",
       "Insulin                       int64\n",
       "BMI                         float64\n",
       "DiabetesPedigreeFunction    float64\n",
       "Age                           int64\n",
       "Outcome                       int64\n",
       "dtype: object"
      ]
     },
     "execution_count": 7,
     "metadata": {},
     "output_type": "execute_result"
    }
   ],
   "source": [
    "df.dtypes"
   ]
  },
  {
   "cell_type": "code",
   "execution_count": 9,
   "metadata": {},
   "outputs": [
    {
     "data": {
      "text/plain": [
       "Pregnancies                 0\n",
       "Glucose                     0\n",
       "BloodPressure               0\n",
       "SkinThickness               0\n",
       "Insulin                     0\n",
       "BMI                         0\n",
       "DiabetesPedigreeFunction    0\n",
       "Age                         0\n",
       "Outcome                     0\n",
       "dtype: int64"
      ]
     },
     "execution_count": 9,
     "metadata": {},
     "output_type": "execute_result"
    }
   ],
   "source": [
    "df.isna().sum() #Checking for NaN values, luckily there are none. "
   ]
  },
  {
   "cell_type": "code",
   "execution_count": 18,
   "metadata": {},
   "outputs": [
    {
     "data": {
      "text/plain": [
       "Index(['Pregnancies', 'Glucose', 'BloodPressure', 'SkinThickness', 'Insulin',\n",
       "       'BMI', 'DiabetesPedigreeFunction', 'Age', 'Outcome'],\n",
       "      dtype='object')"
      ]
     },
     "execution_count": 18,
     "metadata": {},
     "output_type": "execute_result"
    }
   ],
   "source": [
    "df.columns"
   ]
  },
  {
   "cell_type": "code",
   "execution_count": 69,
   "metadata": {},
   "outputs": [
    {
     "data": {
      "image/png": "[encoded data removed]",
      "text/plain": [
       "<Figure size 1080x720 with 1 Axes>"
      ]
     },
     "metadata": {
      "needs_background": "light"
     },
     "output_type": "display_data"
    },
    {
     "data": {
      "image/png": "[encoded data removed]",
      "text/plain": [
       "<Figure size 1080x720 with 1 Axes>"
      ]
     },
     "metadata": {
      "needs_background": "light"
     },
     "output_type": "display_data"
    },
    {
     "data": {
      "image/png": "[encoded data removed]",
      "text/plain": [
       "<Figure size 1080x720 with 1 Axes>"
      ]
     },
     "metadata": {
      "needs_background": "light"
     },
     "output_type": "display_data"
    },
    {
     "data": {
      "image/png": "[encoded data removed]",
      "text/plain": [
       "<Figure size 1080x720 with 1 Axes>"
      ]
     },
     "metadata": {
      "needs_background": "light"
     },
     "output_type": "display_data"
    },
    {
     "data": {
      "image/png": "[encoded data removed]",
      "text/plain": [
       "<Figure size 1080x720 with 1 Axes>"
      ]
     },
     "metadata": {
      "needs_background": "light"
     },
     "output_type": "display_data"
    },
    {
     "data": {
      "image/png": "[encoded data removed]",
      "text/plain": [
       "<Figure size 1080x720 with 1 Axes>"
      ]
     },
     "metadata": {
      "needs_background": "light"
     },
     "output_type": "display_data"
    },
    {
     "data": {
      "image/png": "[encoded data removed]",
      "text/plain": [
       "<Figure size 1080x720 with 1 Axes>"
      ]
     },
     "metadata": {
      "needs_background": "light"
     },
     "output_type": "display_data"
    },
    {
     "data": {
      "image/png": "[encoded data removed]",
      "text/plain": [
       "<Figure size 1080x720 with 1 Axes>"
      ]
     },
     "metadata": {
      "needs_background": "light"
     },
     "output_type": "display_data"
    },
    {
     "data": {
      "image/png": "[encoded data removed]",
      "text/plain": [
       "<Figure size 1080x720 with 1 Axes>"
      ]
     },
     "metadata": {
      "needs_background": "light"
     },
     "output_type": "display_data"
    }
   ],
   "source": [
    "#Plotting distributions for each column\n",
    "#First concern: Some 0 values for Glucose, BloodPressure, BMI, Insulin\n",
    "#Second concern: Age is right skewed\n",
    "#Third concern: Class imbalance \n",
    "for column in df.columns:\n",
    "    plt.figure(figsize = (15,10))\n",
    "    sns.distplot(df[column])"
   ]
  },
  {
   "cell_type": "code",
   "execution_count": 30,
   "metadata": {},
   "outputs": [
    {
     "data": {
      "text/plain": [
       "0    500\n",
       "1    268\n",
       "Name: Outcome, dtype: int64"
      ]
     },
     "execution_count": 30,
     "metadata": {},
     "output_type": "execute_result"
    }
   ],
   "source": [
    "#Checking for class imbalance\n",
    "df.Outcome.value_counts()\n",
    "#May have to upsample positive outcomes later. "
   ]
  },
  {
   "cell_type": "markdown",
   "metadata": {},
   "source": [
    "### Replacing zeroes in the data with the mean of the associated column if that column is normally distributed. "
   ]
  },
  {
   "cell_type": "code",
   "execution_count": 90,
   "metadata": {},
   "outputs": [
    {
     "data": {
      "text/plain": [
       "(5, 9)"
      ]
     },
     "execution_count": 90,
     "metadata": {},
     "output_type": "execute_result"
    }
   ],
   "source": [
    "df.loc[df.Glucose < 1].shape #These can be imputed with the mean"
   ]
  },
  {
   "cell_type": "code",
   "execution_count": 91,
   "metadata": {},
   "outputs": [
    {
     "data": {
      "text/plain": [
       "120.89453125"
      ]
     },
     "execution_count": 91,
     "metadata": {},
     "output_type": "execute_result"
    }
   ],
   "source": [
    "df.Glucose.mean() #Glucose is normally distributed, so using the mean to replace zeros is fine"
   ]
  },
  {
   "cell_type": "code",
   "execution_count": 92,
   "metadata": {},
   "outputs": [],
   "source": [
    "df.loc[df.Glucose < 1, 'Glucose'] = 120.89"
   ]
  },
  {
   "cell_type": "code",
   "execution_count": 93,
   "metadata": {},
   "outputs": [
    {
     "data": {
      "text/plain": [
       "(0, 9)"
      ]
     },
     "execution_count": 93,
     "metadata": {},
     "output_type": "execute_result"
    }
   ],
   "source": [
    "df.loc[df.Glucose < 1].shape #Now 0 rows with glucose = 0"
   ]
  },
  {
   "cell_type": "code",
   "execution_count": 80,
   "metadata": {},
   "outputs": [
    {
     "data": {
      "text/plain": [
       "(35, 9)"
      ]
     },
     "execution_count": 80,
     "metadata": {},
     "output_type": "execute_result"
    }
   ],
   "source": [
    "df.loc[df.BloodPressure< 1].shape #These can also be imputed with the mean as well"
   ]
  },
  {
   "cell_type": "code",
   "execution_count": 96,
   "metadata": {},
   "outputs": [
    {
     "data": {
      "text/plain": [
       "72.40518417462484"
      ]
     },
     "execution_count": 96,
     "metadata": {},
     "output_type": "execute_result"
    }
   ],
   "source": [
    "df.loc[df.BloodPressure > 0, 'BloodPressure'].mean() #Mean blood pressure for the columns that aren't zero"
   ]
  },
  {
   "cell_type": "code",
   "execution_count": 97,
   "metadata": {},
   "outputs": [],
   "source": [
    "df.loc[df.BloodPressure < 1, 'BloodPressure'] = 72.41"
   ]
  },
  {
   "cell_type": "code",
   "execution_count": 98,
   "metadata": {},
   "outputs": [
    {
     "data": {
      "text/plain": [
       "(0, 9)"
      ]
     },
     "execution_count": 98,
     "metadata": {},
     "output_type": "execute_result"
    }
   ],
   "source": [
    "df.loc[df.BloodPressure < 1].shape # Rows that used to have a blood pressure of 0 have been changed to match the mean."
   ]
  },
  {
   "cell_type": "code",
   "execution_count": 46,
   "metadata": {},
   "outputs": [
    {
     "data": {
      "text/plain": [
       "(11, 9)"
      ]
     },
     "execution_count": 46,
     "metadata": {},
     "output_type": "execute_result"
    }
   ],
   "source": [
    "df.loc[df.BMI < 1].shape #These can be impouted with the mean"
   ]
  },
  {
   "cell_type": "code",
   "execution_count": 99,
   "metadata": {},
   "outputs": [
    {
     "data": {
      "text/plain": [
       "32.45746367239099"
      ]
     },
     "execution_count": 99,
     "metadata": {},
     "output_type": "execute_result"
    }
   ],
   "source": [
    "df.loc[df.BMI > 0, 'BMI'].mean()"
   ]
  },
  {
   "cell_type": "code",
   "execution_count": 101,
   "metadata": {},
   "outputs": [],
   "source": [
    "df.loc[df.BMI < 1, 'BMI'] = 32.46"
   ]
  },
  {
   "cell_type": "code",
   "execution_count": 102,
   "metadata": {},
   "outputs": [
    {
     "data": {
      "text/plain": [
       "(0, 9)"
      ]
     },
     "execution_count": 102,
     "metadata": {},
     "output_type": "execute_result"
    }
   ],
   "source": [
    "df.loc[df.BMI < 1].shape"
   ]
  },
  {
   "cell_type": "code",
   "execution_count": 195,
   "metadata": {
    "collapsed": true
   },
   "outputs": [
    {
     "data": {
      "text/plain": [
       "0      374\n",
       "105     11\n",
       "140      9\n",
       "130      9\n",
       "120      8\n",
       "100      7\n",
       "94       7\n",
       "180      7\n",
       "110      6\n",
       "115      6\n",
       "135      6\n",
       "66       5\n",
       "49       5\n",
       "56       5\n",
       "76       5\n",
       "210      5\n",
       "90       4\n",
       "88       4\n",
       "125      4\n",
       "71       4\n",
       "200      4\n",
       "155      4\n",
       "64       4\n",
       "160      4\n",
       "168      4\n",
       "165      4\n",
       "54       4\n",
       "190      4\n",
       "36       3\n",
       "182      3\n",
       "      ... \n",
       "191      1\n",
       "166      1\n",
       "188      1\n",
       "184      1\n",
       "171      1\n",
       "119      1\n",
       "255      1\n",
       "318      1\n",
       "91       1\n",
       "310      1\n",
       "81       1\n",
       "304      1\n",
       "300      1\n",
       "183      1\n",
       "86       1\n",
       "291      1\n",
       "89       1\n",
       "284      1\n",
       "280      1\n",
       "258      1\n",
       "278      1\n",
       "277      1\n",
       "275      1\n",
       "274      1\n",
       "272      1\n",
       "271      1\n",
       "270      1\n",
       "108      1\n",
       "112      1\n",
       "846      1\n",
       "Name: Insulin, Length: 186, dtype: int64"
      ]
     },
     "execution_count": 195,
     "metadata": {},
     "output_type": "execute_result"
    }
   ],
   "source": [
    "df.Insulin.value_counts()\n",
    "#Too many 0 values for insulin, dropping insulin column."
   ]
  },
  {
   "cell_type": "code",
   "execution_count": 197,
   "metadata": {},
   "outputs": [],
   "source": [
    "df.drop(columns = ['Insulin'], axis = 1, inplace = True)"
   ]
  },
  {
   "cell_type": "markdown",
   "metadata": {},
   "source": [
    "### Data Transformations and Dealing with Outliers"
   ]
  },
  {
   "cell_type": "code",
   "execution_count": 199,
   "metadata": {},
   "outputs": [],
   "source": [
    "df1 = pd.read_csv('diabetes.csv')"
   ]
  },
  {
   "cell_type": "code",
   "execution_count": 200,
   "metadata": {},
   "outputs": [
    {
     "data": {
      "text/html": [
       "<div>\n",
       "<style scoped>\n",
       "    .dataframe tbody tr th:only-of-type {\n",
       "        vertical-align: middle;\n",
       "    }\n",
       "\n",
       "    .dataframe tbody tr th {\n",
       "        vertical-align: top;\n",
       "    }\n",
       "\n",
       "    .dataframe thead th {\n",
       "        text-align: right;\n",
       "    }\n",
       "</style>\n",
       "<table border=\"1\" class=\"dataframe\">\n",
       "  <thead>\n",
       "    <tr style=\"text-align: right;\">\n",
       "      <th></th>\n",
       "      <th>Pregnancies</th>\n",
       "      <th>Glucose</th>\n",
       "      <th>BloodPressure</th>\n",
       "      <th>SkinThickness</th>\n",
       "      <th>Insulin</th>\n",
       "      <th>BMI</th>\n",
       "      <th>DiabetesPedigreeFunction</th>\n",
       "      <th>Age</th>\n",
       "      <th>Outcome</th>\n",
       "    </tr>\n",
       "  </thead>\n",
       "  <tbody>\n",
       "    <tr>\n",
       "      <th>count</th>\n",
       "      <td>768.000000</td>\n",
       "      <td>768.000000</td>\n",
       "      <td>768.000000</td>\n",
       "      <td>768.000000</td>\n",
       "      <td>768.000000</td>\n",
       "      <td>768.000000</td>\n",
       "      <td>768.000000</td>\n",
       "      <td>768.000000</td>\n",
       "      <td>768.000000</td>\n",
       "    </tr>\n",
       "    <tr>\n",
       "      <th>mean</th>\n",
       "      <td>3.845052</td>\n",
       "      <td>120.894531</td>\n",
       "      <td>69.105469</td>\n",
       "      <td>20.536458</td>\n",
       "      <td>79.799479</td>\n",
       "      <td>31.992578</td>\n",
       "      <td>0.471876</td>\n",
       "      <td>33.240885</td>\n",
       "      <td>0.348958</td>\n",
       "    </tr>\n",
       "    <tr>\n",
       "      <th>std</th>\n",
       "      <td>3.369578</td>\n",
       "      <td>31.972618</td>\n",
       "      <td>19.355807</td>\n",
       "      <td>15.952218</td>\n",
       "      <td>115.244002</td>\n",
       "      <td>7.884160</td>\n",
       "      <td>0.331329</td>\n",
       "      <td>11.760232</td>\n",
       "      <td>0.476951</td>\n",
       "    </tr>\n",
       "    <tr>\n",
       "      <th>min</th>\n",
       "      <td>0.000000</td>\n",
       "      <td>0.000000</td>\n",
       "      <td>0.000000</td>\n",
       "      <td>0.000000</td>\n",
       "      <td>0.000000</td>\n",
       "      <td>0.000000</td>\n",
       "      <td>0.078000</td>\n",
       "      <td>21.000000</td>\n",
       "      <td>0.000000</td>\n",
       "    </tr>\n",
       "    <tr>\n",
       "      <th>25%</th>\n",
       "      <td>1.000000</td>\n",
       "      <td>99.000000</td>\n",
       "      <td>62.000000</td>\n",
       "      <td>0.000000</td>\n",
       "      <td>0.000000</td>\n",
       "      <td>27.300000</td>\n",
       "      <td>0.243750</td>\n",
       "      <td>24.000000</td>\n",
       "      <td>0.000000</td>\n",
       "    </tr>\n",
       "    <tr>\n",
       "      <th>50%</th>\n",
       "      <td>3.000000</td>\n",
       "      <td>117.000000</td>\n",
       "      <td>72.000000</td>\n",
       "      <td>23.000000</td>\n",
       "      <td>30.500000</td>\n",
       "      <td>32.000000</td>\n",
       "      <td>0.372500</td>\n",
       "      <td>29.000000</td>\n",
       "      <td>0.000000</td>\n",
       "    </tr>\n",
       "    <tr>\n",
       "      <th>75%</th>\n",
       "      <td>6.000000</td>\n",
       "      <td>140.250000</td>\n",
       "      <td>80.000000</td>\n",
       "      <td>32.000000</td>\n",
       "      <td>127.250000</td>\n",
       "      <td>36.600000</td>\n",
       "      <td>0.626250</td>\n",
       "      <td>41.000000</td>\n",
       "      <td>1.000000</td>\n",
       "    </tr>\n",
       "    <tr>\n",
       "      <th>max</th>\n",
       "      <td>17.000000</td>\n",
       "      <td>199.000000</td>\n",
       "      <td>122.000000</td>\n",
       "      <td>99.000000</td>\n",
       "      <td>846.000000</td>\n",
       "      <td>67.100000</td>\n",
       "      <td>2.420000</td>\n",
       "      <td>81.000000</td>\n",
       "      <td>1.000000</td>\n",
       "    </tr>\n",
       "  </tbody>\n",
       "</table>\n",
       "</div>"
      ],
      "text/plain": [
       "       Pregnancies     Glucose  BloodPressure  SkinThickness     Insulin  \\\n",
       "count   768.000000  768.000000     768.000000     768.000000  768.000000   \n",
       "mean      3.845052  120.894531      69.105469      20.536458   79.799479   \n",
       "std       3.369578   31.972618      19.355807      15.952218  115.244002   \n",
       "min       0.000000    0.000000       0.000000       0.000000    0.000000   \n",
       "25%       1.000000   99.000000      62.000000       0.000000    0.000000   \n",
       "50%       3.000000  117.000000      72.000000      23.000000   30.500000   \n",
       "75%       6.000000  140.250000      80.000000      32.000000  127.250000   \n",
       "max      17.000000  199.000000     122.000000      99.000000  846.000000   \n",
       "\n",
       "              BMI  DiabetesPedigreeFunction         Age     Outcome  \n",
       "count  768.000000                768.000000  768.000000  768.000000  \n",
       "mean    31.992578                  0.471876   33.240885    0.348958  \n",
       "std      7.884160                  0.331329   11.760232    0.476951  \n",
       "min      0.000000                  0.078000   21.000000    0.000000  \n",
       "25%     27.300000                  0.243750   24.000000    0.000000  \n",
       "50%     32.000000                  0.372500   29.000000    0.000000  \n",
       "75%     36.600000                  0.626250   41.000000    1.000000  \n",
       "max     67.100000                  2.420000   81.000000    1.000000  "
      ]
     },
     "execution_count": 200,
     "metadata": {},
     "output_type": "execute_result"
    }
   ],
   "source": [
    "df1.describe()"
   ]
  },
  {
   "cell_type": "code",
   "execution_count": 136,
   "metadata": {},
   "outputs": [
    {
     "name": "stderr",
     "output_type": "stream",
     "text": [
      "C:\\Users\\ar344\\Anaconda3\\lib\\site-packages\\scipy\\stats\\stats.py:1713: FutureWarning: Using a non-tuple sequence for multidimensional indexing is deprecated; use `arr[tuple(seq)]` instead of `arr[seq]`. In the future this will be interpreted as an array index, `arr[np.array(seq)]`, which will result either in an error or a different result.\n",
      "  return np.add.reduce(sorted[indexer] * weights, axis=axis) / sumval\n"
     ]
    },
    {
     "data": {
      "text/plain": [
       "Text(0.5, 1.0, 'Age Distribution')"
      ]
     },
     "execution_count": 136,
     "metadata": {},
     "output_type": "execute_result"
    },
    {
     "data": {
      "image/png": "[encoded data removed]",
      "text/plain": [
       "<Figure size 432x288 with 1 Axes>"
      ]
     },
     "metadata": {
      "needs_background": "light"
     },
     "output_type": "display_data"
    }
   ],
   "source": [
    "sns.distplot(df.Age)\n",
    "plt.title('Age Distribution')"
   ]
  },
  {
   "cell_type": "code",
   "execution_count": 135,
   "metadata": {},
   "outputs": [
    {
     "data": {
      "image/png": "[encoded data removed]",
      "text/plain": [
       "<Figure size 720x504 with 1 Axes>"
      ]
     },
     "metadata": {
      "needs_background": "light"
     },
     "output_type": "display_data"
    }
   ],
   "source": [
    "#Some age outliers are present but not really something to worry about.\n",
    "\n",
    "plt.figure(figsize = (10,7))\n",
    "sns.boxplot(y = 'Age', data = df, palette= 'GnBu_d').set_title('Age Box Plot')\n",
    "plt.show() "
   ]
  },
  {
   "cell_type": "code",
   "execution_count": 140,
   "metadata": {},
   "outputs": [
    {
     "data": {
      "text/plain": [
       "Text(0.5, 1.0, 'Diabetes Pedigree Function Distribution')"
      ]
     },
     "execution_count": 140,
     "metadata": {},
     "output_type": "execute_result"
    },
    {
     "data": {
      "image/png": "[encoded data removed]",
      "text/plain": [
       "<Figure size 432x288 with 1 Axes>"
      ]
     },
     "metadata": {
      "needs_background": "light"
     },
     "output_type": "display_data"
    }
   ],
   "source": [
    "sns.distplot(df.DiabetesPedigreeFunction)\n",
    "plt.title('Diabetes Pedigree Function Distribution')"
   ]
  },
  {
   "cell_type": "code",
   "execution_count": 130,
   "metadata": {},
   "outputs": [
    {
     "data": {
      "text/plain": [
       "<matplotlib.axes._subplots.AxesSubplot at 0x178c07e36a0>"
      ]
     },
     "execution_count": 130,
     "metadata": {},
     "output_type": "execute_result"
    },
    {
     "data": {
      "image/png": "[encoded data removed]",
      "text/plain": [
       "<Figure size 432x288 with 1 Axes>"
      ]
     },
     "metadata": {
      "needs_background": "light"
     },
     "output_type": "display_data"
    }
   ],
   "source": [
    "sns.distplot(df.Pregnancies, bins = 5) #Going to change pregnancies into a categorical variable instead. "
   ]
  },
  {
   "cell_type": "code",
   "execution_count": 159,
   "metadata": {},
   "outputs": [
    {
     "data": {
      "text/plain": [
       "1     135\n",
       "0     111\n",
       "2     103\n",
       "3      75\n",
       "4      68\n",
       "5      57\n",
       "6      50\n",
       "7      45\n",
       "8      38\n",
       "9      28\n",
       "10     24\n",
       "11     11\n",
       "13     10\n",
       "12      9\n",
       "14      2\n",
       "15      1\n",
       "17      1\n",
       "Name: Pregnancies, dtype: int64"
      ]
     },
     "execution_count": 159,
     "metadata": {},
     "output_type": "execute_result"
    }
   ],
   "source": [
    "df.Pregnancies.value_counts()"
   ]
  },
  {
   "cell_type": "markdown",
   "metadata": {},
   "source": [
    "###### Changing Pregnancies and Ages into bins and then dummy variables"
   ]
  },
  {
   "cell_type": "code",
   "execution_count": 177,
   "metadata": {},
   "outputs": [],
   "source": [
    "#Putting pregnancies into ranges and then into dummies\n",
    "bins = [-1, 4, 9, 13, 18]\n",
    "group_names = ['0 - 3', '4- 8', '9 - 12', '13 - 17']\n",
    "pregnancies_categories = pd.cut(df.Pregnancies, bins, labels = group_names)"
   ]
  },
  {
   "cell_type": "code",
   "execution_count": 178,
   "metadata": {},
   "outputs": [],
   "source": [
    "df['pregnancies_categories'] = pd.cut(df.Pregnancies, bins, labels = group_names)"
   ]
  },
  {
   "cell_type": "code",
   "execution_count": 180,
   "metadata": {},
   "outputs": [],
   "source": [
    "df = pd.get_dummies(df, columns = ['pregnancies_categories'])"
   ]
  },
  {
   "cell_type": "code",
   "execution_count": 183,
   "metadata": {},
   "outputs": [
    {
     "name": "stdout",
     "output_type": "stream",
     "text": [
      "21 81\n"
     ]
    }
   ],
   "source": [
    "print(df.Age.min(), df.Age.max())"
   ]
  },
  {
   "cell_type": "code",
   "execution_count": 185,
   "metadata": {},
   "outputs": [],
   "source": [
    "age_bins = [20, 25, 30, 40, 50, 60, 70, 82]\n",
    "age_labels= ['20 - 24', '25 - 29', '30-39', '40 - 49', '50 - 59', '60 - 69', '70 - 81']\n",
    "df['age_categories'] = pd.cut(df.Age , age_bins, labels = age_labels)"
   ]
  },
  {
   "cell_type": "code",
   "execution_count": 186,
   "metadata": {},
   "outputs": [],
   "source": [
    "df = pd.get_dummies(df, columns = ['age_categories'])"
   ]
  },
  {
   "cell_type": "code",
   "execution_count": 189,
   "metadata": {},
   "outputs": [],
   "source": [
    "df.drop(axis = 1, columns = ['Age', 'Pregnancies'], inplace = True)"
   ]
  },
  {
   "cell_type": "code",
   "execution_count": 201,
   "metadata": {},
   "outputs": [
    {
     "data": {
      "text/html": [
       "<div>\n",
       "<style scoped>\n",
       "    .dataframe tbody tr th:only-of-type {\n",
       "        vertical-align: middle;\n",
       "    }\n",
       "\n",
       "    .dataframe tbody tr th {\n",
       "        vertical-align: top;\n",
       "    }\n",
       "\n",
       "    .dataframe thead th {\n",
       "        text-align: right;\n",
       "    }\n",
       "</style>\n",
       "<table border=\"1\" class=\"dataframe\">\n",
       "  <thead>\n",
       "    <tr style=\"text-align: right;\">\n",
       "      <th></th>\n",
       "      <th>Glucose</th>\n",
       "      <th>BloodPressure</th>\n",
       "      <th>SkinThickness</th>\n",
       "      <th>BMI</th>\n",
       "      <th>DiabetesPedigreeFunction</th>\n",
       "      <th>Outcome</th>\n",
       "      <th>pregnancies_categories_0 - 3</th>\n",
       "      <th>pregnancies_categories_4- 8</th>\n",
       "      <th>pregnancies_categories_9 - 12</th>\n",
       "      <th>pregnancies_categories_13 - 17</th>\n",
       "      <th>age_categories_20 - 24</th>\n",
       "      <th>age_categories_25 - 29</th>\n",
       "      <th>age_categories_30-39</th>\n",
       "      <th>age_categories_40 - 49</th>\n",
       "      <th>age_categories_50 - 59</th>\n",
       "      <th>age_categories_60 - 69</th>\n",
       "      <th>age_categories_70 - 81</th>\n",
       "    </tr>\n",
       "  </thead>\n",
       "  <tbody>\n",
       "    <tr>\n",
       "      <th>0</th>\n",
       "      <td>148.0</td>\n",
       "      <td>72.0</td>\n",
       "      <td>35</td>\n",
       "      <td>33.6</td>\n",
       "      <td>0.627</td>\n",
       "      <td>1</td>\n",
       "      <td>0</td>\n",
       "      <td>1</td>\n",
       "      <td>0</td>\n",
       "      <td>0</td>\n",
       "      <td>0</td>\n",
       "      <td>0</td>\n",
       "      <td>0</td>\n",
       "      <td>1</td>\n",
       "      <td>0</td>\n",
       "      <td>0</td>\n",
       "      <td>0</td>\n",
       "    </tr>\n",
       "    <tr>\n",
       "      <th>1</th>\n",
       "      <td>85.0</td>\n",
       "      <td>66.0</td>\n",
       "      <td>29</td>\n",
       "      <td>26.6</td>\n",
       "      <td>0.351</td>\n",
       "      <td>0</td>\n",
       "      <td>1</td>\n",
       "      <td>0</td>\n",
       "      <td>0</td>\n",
       "      <td>0</td>\n",
       "      <td>0</td>\n",
       "      <td>0</td>\n",
       "      <td>1</td>\n",
       "      <td>0</td>\n",
       "      <td>0</td>\n",
       "      <td>0</td>\n",
       "      <td>0</td>\n",
       "    </tr>\n",
       "    <tr>\n",
       "      <th>2</th>\n",
       "      <td>183.0</td>\n",
       "      <td>64.0</td>\n",
       "      <td>0</td>\n",
       "      <td>23.3</td>\n",
       "      <td>0.672</td>\n",
       "      <td>1</td>\n",
       "      <td>0</td>\n",
       "      <td>1</td>\n",
       "      <td>0</td>\n",
       "      <td>0</td>\n",
       "      <td>0</td>\n",
       "      <td>0</td>\n",
       "      <td>1</td>\n",
       "      <td>0</td>\n",
       "      <td>0</td>\n",
       "      <td>0</td>\n",
       "      <td>0</td>\n",
       "    </tr>\n",
       "    <tr>\n",
       "      <th>3</th>\n",
       "      <td>89.0</td>\n",
       "      <td>66.0</td>\n",
       "      <td>23</td>\n",
       "      <td>28.1</td>\n",
       "      <td>0.167</td>\n",
       "      <td>0</td>\n",
       "      <td>1</td>\n",
       "      <td>0</td>\n",
       "      <td>0</td>\n",
       "      <td>0</td>\n",
       "      <td>1</td>\n",
       "      <td>0</td>\n",
       "      <td>0</td>\n",
       "      <td>0</td>\n",
       "      <td>0</td>\n",
       "      <td>0</td>\n",
       "      <td>0</td>\n",
       "    </tr>\n",
       "    <tr>\n",
       "      <th>4</th>\n",
       "      <td>137.0</td>\n",
       "      <td>40.0</td>\n",
       "      <td>35</td>\n",
       "      <td>43.1</td>\n",
       "      <td>2.288</td>\n",
       "      <td>1</td>\n",
       "      <td>1</td>\n",
       "      <td>0</td>\n",
       "      <td>0</td>\n",
       "      <td>0</td>\n",
       "      <td>0</td>\n",
       "      <td>0</td>\n",
       "      <td>1</td>\n",
       "      <td>0</td>\n",
       "      <td>0</td>\n",
       "      <td>0</td>\n",
       "      <td>0</td>\n",
       "    </tr>\n",
       "  </tbody>\n",
       "</table>\n",
       "</div>"
      ],
      "text/plain": [
       "   Glucose  BloodPressure  SkinThickness   BMI  DiabetesPedigreeFunction  \\\n",
       "0    148.0           72.0             35  33.6                     0.627   \n",
       "1     85.0           66.0             29  26.6                     0.351   \n",
       "2    183.0           64.0              0  23.3                     0.672   \n",
       "3     89.0           66.0             23  28.1                     0.167   \n",
       "4    137.0           40.0             35  43.1                     2.288   \n",
       "\n",
       "   Outcome  pregnancies_categories_0 - 3  pregnancies_categories_4- 8  \\\n",
       "0        1                             0                            1   \n",
       "1        0                             1                            0   \n",
       "2        1                             0                            1   \n",
       "3        0                             1                            0   \n",
       "4        1                             1                            0   \n",
       "\n",
       "   pregnancies_categories_9 - 12  pregnancies_categories_13 - 17  \\\n",
       "0                              0                               0   \n",
       "1                              0                               0   \n",
       "2                              0                               0   \n",
       "3                              0                               0   \n",
       "4                              0                               0   \n",
       "\n",
       "   age_categories_20 - 24  age_categories_25 - 29  age_categories_30-39  \\\n",
       "0                       0                       0                     0   \n",
       "1                       0                       0                     1   \n",
       "2                       0                       0                     1   \n",
       "3                       1                       0                     0   \n",
       "4                       0                       0                     1   \n",
       "\n",
       "   age_categories_40 - 49  age_categories_50 - 59  age_categories_60 - 69  \\\n",
       "0                       1                       0                       0   \n",
       "1                       0                       0                       0   \n",
       "2                       0                       0                       0   \n",
       "3                       0                       0                       0   \n",
       "4                       0                       0                       0   \n",
       "\n",
       "   age_categories_70 - 81  \n",
       "0                       0  \n",
       "1                       0  \n",
       "2                       0  \n",
       "3                       0  \n",
       "4                       0  "
      ]
     },
     "execution_count": 201,
     "metadata": {},
     "output_type": "execute_result"
    }
   ],
   "source": [
    "df.head(5)"
   ]
  },
  {
   "cell_type": "markdown",
   "metadata": {},
   "source": [
    "#### Checking For Outliers"
   ]
  },
  {
   "cell_type": "code",
   "execution_count": 202,
   "metadata": {},
   "outputs": [
    {
     "data": {
      "image/png": "[encoded data removed]",
      "text/plain": [
       "<Figure size 720x504 with 1 Axes>"
      ]
     },
     "metadata": {
      "needs_background": "light"
     },
     "output_type": "display_data"
    },
    {
     "name": "stdout",
     "output_type": "stream",
     "text": [
      "(8, 17)\n"
     ]
    }
   ],
   "source": [
    "plt.figure(figsize = (10,7))\n",
    "sns.boxplot(y = 'BMI', data = df, palette= 'GnBu_d').set_title('BMI Box Plot')\n",
    "plt.show() \n",
    "print(df.loc[df.BMI > 50].shape) #8 BMI outliers"
   ]
  },
  {
   "cell_type": "code",
   "execution_count": 229,
   "metadata": {},
   "outputs": [
    {
     "data": {
      "image/png": "[encoded data removed]",
      "text/plain": [
       "<Figure size 720x504 with 1 Axes>"
      ]
     },
     "metadata": {
      "needs_background": "light"
     },
     "output_type": "display_data"
    },
    {
     "name": "stdout",
     "output_type": "stream",
     "text": [
      "(227, 17)\n"
     ]
    }
   ],
   "source": [
    "plt.figure(figsize = (10,7))\n",
    "sns.boxplot(y = 'SkinThickness', data = df, palette= 'GnBu_d').set_title('Skin Thickness Box Plot')\n",
    "plt.show() \n",
    "print(df.loc[df.SkinThickness == 0].shape) #1 outlier, but 227 missing values labeled as zeroes."
   ]
  },
  {
   "cell_type": "code",
   "execution_count": 228,
   "metadata": {},
   "outputs": [
    {
     "data": {
      "text/html": [
       "<div>\n",
       "<style scoped>\n",
       "    .dataframe tbody tr th:only-of-type {\n",
       "        vertical-align: middle;\n",
       "    }\n",
       "\n",
       "    .dataframe tbody tr th {\n",
       "        vertical-align: top;\n",
       "    }\n",
       "\n",
       "    .dataframe thead th {\n",
       "        text-align: right;\n",
       "    }\n",
       "</style>\n",
       "<table border=\"1\" class=\"dataframe\">\n",
       "  <thead>\n",
       "    <tr style=\"text-align: right;\">\n",
       "      <th></th>\n",
       "      <th>Glucose</th>\n",
       "      <th>BloodPressure</th>\n",
       "      <th>SkinThickness</th>\n",
       "      <th>BMI</th>\n",
       "      <th>DiabetesPedigreeFunction</th>\n",
       "      <th>Outcome</th>\n",
       "      <th>pregnancies_categories_0 - 3</th>\n",
       "      <th>pregnancies_categories_4- 8</th>\n",
       "      <th>pregnancies_categories_9 - 12</th>\n",
       "      <th>pregnancies_categories_13 - 17</th>\n",
       "      <th>age_categories_20 - 24</th>\n",
       "      <th>age_categories_25 - 29</th>\n",
       "      <th>age_categories_30-39</th>\n",
       "      <th>age_categories_40 - 49</th>\n",
       "      <th>age_categories_50 - 59</th>\n",
       "      <th>age_categories_60 - 69</th>\n",
       "      <th>age_categories_70 - 81</th>\n",
       "    </tr>\n",
       "  </thead>\n",
       "  <tbody>\n",
       "    <tr>\n",
       "      <th>Glucose</th>\n",
       "      <td>1.000000</td>\n",
       "      <td>0.217532</td>\n",
       "      <td>0.227368</td>\n",
       "      <td>0.247179</td>\n",
       "      <td>0.160837</td>\n",
       "      <td>0.501680</td>\n",
       "      <td>-0.122002</td>\n",
       "      <td>0.116841</td>\n",
       "      <td>0.004057</td>\n",
       "      <td>0.063301</td>\n",
       "      <td>-0.231182</td>\n",
       "      <td>-0.008573</td>\n",
       "      <td>0.105474</td>\n",
       "      <td>0.029561</td>\n",
       "      <td>0.245802</td>\n",
       "      <td>0.057495</td>\n",
       "      <td>0.018272</td>\n",
       "    </tr>\n",
       "    <tr>\n",
       "      <th>BloodPressure</th>\n",
       "      <td>0.217532</td>\n",
       "      <td>1.000000</td>\n",
       "      <td>0.226690</td>\n",
       "      <td>0.309560</td>\n",
       "      <td>0.006882</td>\n",
       "      <td>0.185287</td>\n",
       "      <td>-0.215183</td>\n",
       "      <td>0.156838</td>\n",
       "      <td>0.139121</td>\n",
       "      <td>-0.006802</td>\n",
       "      <td>-0.300951</td>\n",
       "      <td>-0.013054</td>\n",
       "      <td>0.099558</td>\n",
       "      <td>0.182889</td>\n",
       "      <td>0.177874</td>\n",
       "      <td>0.085349</td>\n",
       "      <td>0.008903</td>\n",
       "    </tr>\n",
       "    <tr>\n",
       "      <th>SkinThickness</th>\n",
       "      <td>0.227368</td>\n",
       "      <td>0.226690</td>\n",
       "      <td>1.000000</td>\n",
       "      <td>0.647932</td>\n",
       "      <td>0.115016</td>\n",
       "      <td>0.259491</td>\n",
       "      <td>-0.145631</td>\n",
       "      <td>0.111146</td>\n",
       "      <td>0.074925</td>\n",
       "      <td>0.023471</td>\n",
       "      <td>-0.199708</td>\n",
       "      <td>0.049713</td>\n",
       "      <td>0.099942</td>\n",
       "      <td>0.079059</td>\n",
       "      <td>0.002314</td>\n",
       "      <td>0.094765</td>\n",
       "      <td>0.015814</td>\n",
       "    </tr>\n",
       "    <tr>\n",
       "      <th>BMI</th>\n",
       "      <td>0.247179</td>\n",
       "      <td>0.309560</td>\n",
       "      <td>0.647932</td>\n",
       "      <td>1.000000</td>\n",
       "      <td>0.150541</td>\n",
       "      <td>0.308586</td>\n",
       "      <td>-0.062142</td>\n",
       "      <td>0.025609</td>\n",
       "      <td>0.056013</td>\n",
       "      <td>0.052340</td>\n",
       "      <td>-0.161701</td>\n",
       "      <td>0.086321</td>\n",
       "      <td>0.056134</td>\n",
       "      <td>0.076035</td>\n",
       "      <td>0.007418</td>\n",
       "      <td>-0.018220</td>\n",
       "      <td>-0.043920</td>\n",
       "    </tr>\n",
       "    <tr>\n",
       "      <th>DiabetesPedigreeFunction</th>\n",
       "      <td>0.160837</td>\n",
       "      <td>0.006882</td>\n",
       "      <td>0.115016</td>\n",
       "      <td>0.150541</td>\n",
       "      <td>1.000000</td>\n",
       "      <td>0.225474</td>\n",
       "      <td>-0.007996</td>\n",
       "      <td>0.004175</td>\n",
       "      <td>0.017688</td>\n",
       "      <td>-0.026504</td>\n",
       "      <td>-0.054355</td>\n",
       "      <td>-0.072965</td>\n",
       "      <td>0.100729</td>\n",
       "      <td>0.003077</td>\n",
       "      <td>0.091899</td>\n",
       "      <td>-0.052524</td>\n",
       "      <td>-0.005573</td>\n",
       "    </tr>\n",
       "    <tr>\n",
       "      <th>Outcome</th>\n",
       "      <td>0.501680</td>\n",
       "      <td>0.185287</td>\n",
       "      <td>0.259491</td>\n",
       "      <td>0.308586</td>\n",
       "      <td>0.225474</td>\n",
       "      <td>1.000000</td>\n",
       "      <td>-0.247964</td>\n",
       "      <td>0.166437</td>\n",
       "      <td>0.138905</td>\n",
       "      <td>0.122225</td>\n",
       "      <td>-0.315478</td>\n",
       "      <td>-0.032299</td>\n",
       "      <td>0.147183</td>\n",
       "      <td>0.195308</td>\n",
       "      <td>0.205422</td>\n",
       "      <td>-0.021507</td>\n",
       "      <td>-0.030387</td>\n",
       "    </tr>\n",
       "    <tr>\n",
       "      <th>pregnancies_categories_0 - 3</th>\n",
       "      <td>-0.122002</td>\n",
       "      <td>-0.215183</td>\n",
       "      <td>-0.145631</td>\n",
       "      <td>-0.062142</td>\n",
       "      <td>-0.007996</td>\n",
       "      <td>-0.247964</td>\n",
       "      <td>1.000000</td>\n",
       "      <td>-0.844692</td>\n",
       "      <td>-0.378502</td>\n",
       "      <td>-0.130285</td>\n",
       "      <td>0.509677</td>\n",
       "      <td>0.134822</td>\n",
       "      <td>-0.210512</td>\n",
       "      <td>-0.450375</td>\n",
       "      <td>-0.259371</td>\n",
       "      <td>-0.051892</td>\n",
       "      <td>-0.064961</td>\n",
       "    </tr>\n",
       "    <tr>\n",
       "      <th>pregnancies_categories_4- 8</th>\n",
       "      <td>0.116841</td>\n",
       "      <td>0.156838</td>\n",
       "      <td>0.111146</td>\n",
       "      <td>0.025609</td>\n",
       "      <td>0.004175</td>\n",
       "      <td>0.166437</td>\n",
       "      <td>-0.844692</td>\n",
       "      <td>1.000000</td>\n",
       "      <td>-0.140302</td>\n",
       "      <td>-0.048294</td>\n",
       "      <td>-0.420894</td>\n",
       "      <td>-0.068580</td>\n",
       "      <td>0.225828</td>\n",
       "      <td>0.288316</td>\n",
       "      <td>0.190671</td>\n",
       "      <td>0.003321</td>\n",
       "      <td>0.076905</td>\n",
       "    </tr>\n",
       "    <tr>\n",
       "      <th>pregnancies_categories_9 - 12</th>\n",
       "      <td>0.004057</td>\n",
       "      <td>0.139121</td>\n",
       "      <td>0.074925</td>\n",
       "      <td>0.056013</td>\n",
       "      <td>0.017688</td>\n",
       "      <td>0.138905</td>\n",
       "      <td>-0.378502</td>\n",
       "      <td>-0.140302</td>\n",
       "      <td>1.000000</td>\n",
       "      <td>-0.021640</td>\n",
       "      <td>-0.208371</td>\n",
       "      <td>-0.123773</td>\n",
       "      <td>-0.001845</td>\n",
       "      <td>0.300212</td>\n",
       "      <td>0.169634</td>\n",
       "      <td>0.099115</td>\n",
       "      <td>-0.010790</td>\n",
       "    </tr>\n",
       "    <tr>\n",
       "      <th>pregnancies_categories_13 - 17</th>\n",
       "      <td>0.063301</td>\n",
       "      <td>-0.006802</td>\n",
       "      <td>0.023471</td>\n",
       "      <td>0.052340</td>\n",
       "      <td>-0.026504</td>\n",
       "      <td>0.122225</td>\n",
       "      <td>-0.130285</td>\n",
       "      <td>-0.048294</td>\n",
       "      <td>-0.021640</td>\n",
       "      <td>1.000000</td>\n",
       "      <td>-0.071724</td>\n",
       "      <td>-0.042604</td>\n",
       "      <td>0.013104</td>\n",
       "      <td>0.159588</td>\n",
       "      <td>-0.021640</td>\n",
       "      <td>-0.010574</td>\n",
       "      <td>-0.003714</td>\n",
       "    </tr>\n",
       "    <tr>\n",
       "      <th>age_categories_20 - 24</th>\n",
       "      <td>-0.231182</td>\n",
       "      <td>-0.300951</td>\n",
       "      <td>-0.199708</td>\n",
       "      <td>-0.161701</td>\n",
       "      <td>-0.054355</td>\n",
       "      <td>-0.315478</td>\n",
       "      <td>0.509677</td>\n",
       "      <td>-0.420894</td>\n",
       "      <td>-0.208371</td>\n",
       "      <td>-0.071724</td>\n",
       "      <td>1.000000</td>\n",
       "      <td>-0.410232</td>\n",
       "      <td>-0.402998</td>\n",
       "      <td>-0.320376</td>\n",
       "      <td>-0.208371</td>\n",
       "      <td>-0.101813</td>\n",
       "      <td>-0.035762</td>\n",
       "    </tr>\n",
       "    <tr>\n",
       "      <th>age_categories_25 - 29</th>\n",
       "      <td>-0.008573</td>\n",
       "      <td>-0.013054</td>\n",
       "      <td>0.049713</td>\n",
       "      <td>0.086321</td>\n",
       "      <td>-0.072965</td>\n",
       "      <td>-0.032299</td>\n",
       "      <td>0.134822</td>\n",
       "      <td>-0.068580</td>\n",
       "      <td>-0.123773</td>\n",
       "      <td>-0.042604</td>\n",
       "      <td>-0.410232</td>\n",
       "      <td>1.000000</td>\n",
       "      <td>-0.239381</td>\n",
       "      <td>-0.190304</td>\n",
       "      <td>-0.123773</td>\n",
       "      <td>-0.060477</td>\n",
       "      <td>-0.021243</td>\n",
       "    </tr>\n",
       "    <tr>\n",
       "      <th>age_categories_30-39</th>\n",
       "      <td>0.105474</td>\n",
       "      <td>0.099558</td>\n",
       "      <td>0.099942</td>\n",
       "      <td>0.056134</td>\n",
       "      <td>0.100729</td>\n",
       "      <td>0.147183</td>\n",
       "      <td>-0.210512</td>\n",
       "      <td>0.225828</td>\n",
       "      <td>-0.001845</td>\n",
       "      <td>0.013104</td>\n",
       "      <td>-0.402998</td>\n",
       "      <td>-0.239381</td>\n",
       "      <td>1.000000</td>\n",
       "      <td>-0.186948</td>\n",
       "      <td>-0.121590</td>\n",
       "      <td>-0.059410</td>\n",
       "      <td>-0.020868</td>\n",
       "    </tr>\n",
       "    <tr>\n",
       "      <th>age_categories_40 - 49</th>\n",
       "      <td>0.029561</td>\n",
       "      <td>0.182889</td>\n",
       "      <td>0.079059</td>\n",
       "      <td>0.076035</td>\n",
       "      <td>0.003077</td>\n",
       "      <td>0.195308</td>\n",
       "      <td>-0.450375</td>\n",
       "      <td>0.288316</td>\n",
       "      <td>0.300212</td>\n",
       "      <td>0.159588</td>\n",
       "      <td>-0.320376</td>\n",
       "      <td>-0.190304</td>\n",
       "      <td>-0.186948</td>\n",
       "      <td>1.000000</td>\n",
       "      <td>-0.096662</td>\n",
       "      <td>-0.047230</td>\n",
       "      <td>-0.016590</td>\n",
       "    </tr>\n",
       "    <tr>\n",
       "      <th>age_categories_50 - 59</th>\n",
       "      <td>0.245802</td>\n",
       "      <td>0.177874</td>\n",
       "      <td>0.002314</td>\n",
       "      <td>0.007418</td>\n",
       "      <td>0.091899</td>\n",
       "      <td>0.205422</td>\n",
       "      <td>-0.259371</td>\n",
       "      <td>0.190671</td>\n",
       "      <td>0.169634</td>\n",
       "      <td>-0.021640</td>\n",
       "      <td>-0.208371</td>\n",
       "      <td>-0.123773</td>\n",
       "      <td>-0.121590</td>\n",
       "      <td>-0.096662</td>\n",
       "      <td>1.000000</td>\n",
       "      <td>-0.030718</td>\n",
       "      <td>-0.010790</td>\n",
       "    </tr>\n",
       "    <tr>\n",
       "      <th>age_categories_60 - 69</th>\n",
       "      <td>0.057495</td>\n",
       "      <td>0.085349</td>\n",
       "      <td>0.094765</td>\n",
       "      <td>-0.018220</td>\n",
       "      <td>-0.052524</td>\n",
       "      <td>-0.021507</td>\n",
       "      <td>-0.051892</td>\n",
       "      <td>0.003321</td>\n",
       "      <td>0.099115</td>\n",
       "      <td>-0.010574</td>\n",
       "      <td>-0.101813</td>\n",
       "      <td>-0.060477</td>\n",
       "      <td>-0.059410</td>\n",
       "      <td>-0.047230</td>\n",
       "      <td>-0.030718</td>\n",
       "      <td>1.000000</td>\n",
       "      <td>-0.005272</td>\n",
       "    </tr>\n",
       "    <tr>\n",
       "      <th>age_categories_70 - 81</th>\n",
       "      <td>0.018272</td>\n",
       "      <td>0.008903</td>\n",
       "      <td>0.015814</td>\n",
       "      <td>-0.043920</td>\n",
       "      <td>-0.005573</td>\n",
       "      <td>-0.030387</td>\n",
       "      <td>-0.064961</td>\n",
       "      <td>0.076905</td>\n",
       "      <td>-0.010790</td>\n",
       "      <td>-0.003714</td>\n",
       "      <td>-0.035762</td>\n",
       "      <td>-0.021243</td>\n",
       "      <td>-0.020868</td>\n",
       "      <td>-0.016590</td>\n",
       "      <td>-0.010790</td>\n",
       "      <td>-0.005272</td>\n",
       "      <td>1.000000</td>\n",
       "    </tr>\n",
       "  </tbody>\n",
       "</table>\n",
       "</div>"
      ],
      "text/plain": [
       "                                 Glucose  BloodPressure  SkinThickness  \\\n",
       "Glucose                         1.000000       0.217532       0.227368   \n",
       "BloodPressure                   0.217532       1.000000       0.226690   \n",
       "SkinThickness                   0.227368       0.226690       1.000000   \n",
       "BMI                             0.247179       0.309560       0.647932   \n",
       "DiabetesPedigreeFunction        0.160837       0.006882       0.115016   \n",
       "Outcome                         0.501680       0.185287       0.259491   \n",
       "pregnancies_categories_0 - 3   -0.122002      -0.215183      -0.145631   \n",
       "pregnancies_categories_4- 8     0.116841       0.156838       0.111146   \n",
       "pregnancies_categories_9 - 12   0.004057       0.139121       0.074925   \n",
       "pregnancies_categories_13 - 17  0.063301      -0.006802       0.023471   \n",
       "age_categories_20 - 24         -0.231182      -0.300951      -0.199708   \n",
       "age_categories_25 - 29         -0.008573      -0.013054       0.049713   \n",
       "age_categories_30-39            0.105474       0.099558       0.099942   \n",
       "age_categories_40 - 49          0.029561       0.182889       0.079059   \n",
       "age_categories_50 - 59          0.245802       0.177874       0.002314   \n",
       "age_categories_60 - 69          0.057495       0.085349       0.094765   \n",
       "age_categories_70 - 81          0.018272       0.008903       0.015814   \n",
       "\n",
       "                                     BMI  DiabetesPedigreeFunction   Outcome  \\\n",
       "Glucose                         0.247179                  0.160837  0.501680   \n",
       "BloodPressure                   0.309560                  0.006882  0.185287   \n",
       "SkinThickness                   0.647932                  0.115016  0.259491   \n",
       "BMI                             1.000000                  0.150541  0.308586   \n",
       "DiabetesPedigreeFunction        0.150541                  1.000000  0.225474   \n",
       "Outcome                         0.308586                  0.225474  1.000000   \n",
       "pregnancies_categories_0 - 3   -0.062142                 -0.007996 -0.247964   \n",
       "pregnancies_categories_4- 8     0.025609                  0.004175  0.166437   \n",
       "pregnancies_categories_9 - 12   0.056013                  0.017688  0.138905   \n",
       "pregnancies_categories_13 - 17  0.052340                 -0.026504  0.122225   \n",
       "age_categories_20 - 24         -0.161701                 -0.054355 -0.315478   \n",
       "age_categories_25 - 29          0.086321                 -0.072965 -0.032299   \n",
       "age_categories_30-39            0.056134                  0.100729  0.147183   \n",
       "age_categories_40 - 49          0.076035                  0.003077  0.195308   \n",
       "age_categories_50 - 59          0.007418                  0.091899  0.205422   \n",
       "age_categories_60 - 69         -0.018220                 -0.052524 -0.021507   \n",
       "age_categories_70 - 81         -0.043920                 -0.005573 -0.030387   \n",
       "\n",
       "                                pregnancies_categories_0 - 3  \\\n",
       "Glucose                                            -0.122002   \n",
       "BloodPressure                                      -0.215183   \n",
       "SkinThickness                                      -0.145631   \n",
       "BMI                                                -0.062142   \n",
       "DiabetesPedigreeFunction                           -0.007996   \n",
       "Outcome                                            -0.247964   \n",
       "pregnancies_categories_0 - 3                        1.000000   \n",
       "pregnancies_categories_4- 8                        -0.844692   \n",
       "pregnancies_categories_9 - 12                      -0.378502   \n",
       "pregnancies_categories_13 - 17                     -0.130285   \n",
       "age_categories_20 - 24                              0.509677   \n",
       "age_categories_25 - 29                              0.134822   \n",
       "age_categories_30-39                               -0.210512   \n",
       "age_categories_40 - 49                             -0.450375   \n",
       "age_categories_50 - 59                             -0.259371   \n",
       "age_categories_60 - 69                             -0.051892   \n",
       "age_categories_70 - 81                             -0.064961   \n",
       "\n",
       "                                pregnancies_categories_4- 8  \\\n",
       "Glucose                                            0.116841   \n",
       "BloodPressure                                      0.156838   \n",
       "SkinThickness                                      0.111146   \n",
       "BMI                                                0.025609   \n",
       "DiabetesPedigreeFunction                           0.004175   \n",
       "Outcome                                            0.166437   \n",
       "pregnancies_categories_0 - 3                      -0.844692   \n",
       "pregnancies_categories_4- 8                        1.000000   \n",
       "pregnancies_categories_9 - 12                     -0.140302   \n",
       "pregnancies_categories_13 - 17                    -0.048294   \n",
       "age_categories_20 - 24                            -0.420894   \n",
       "age_categories_25 - 29                            -0.068580   \n",
       "age_categories_30-39                               0.225828   \n",
       "age_categories_40 - 49                             0.288316   \n",
       "age_categories_50 - 59                             0.190671   \n",
       "age_categories_60 - 69                             0.003321   \n",
       "age_categories_70 - 81                             0.076905   \n",
       "\n",
       "                                pregnancies_categories_9 - 12  \\\n",
       "Glucose                                              0.004057   \n",
       "BloodPressure                                        0.139121   \n",
       "SkinThickness                                        0.074925   \n",
       "BMI                                                  0.056013   \n",
       "DiabetesPedigreeFunction                             0.017688   \n",
       "Outcome                                              0.138905   \n",
       "pregnancies_categories_0 - 3                        -0.378502   \n",
       "pregnancies_categories_4- 8                         -0.140302   \n",
       "pregnancies_categories_9 - 12                        1.000000   \n",
       "pregnancies_categories_13 - 17                      -0.021640   \n",
       "age_categories_20 - 24                              -0.208371   \n",
       "age_categories_25 - 29                              -0.123773   \n",
       "age_categories_30-39                                -0.001845   \n",
       "age_categories_40 - 49                               0.300212   \n",
       "age_categories_50 - 59                               0.169634   \n",
       "age_categories_60 - 69                               0.099115   \n",
       "age_categories_70 - 81                              -0.010790   \n",
       "\n",
       "                                pregnancies_categories_13 - 17  \\\n",
       "Glucose                                               0.063301   \n",
       "BloodPressure                                        -0.006802   \n",
       "SkinThickness                                         0.023471   \n",
       "BMI                                                   0.052340   \n",
       "DiabetesPedigreeFunction                             -0.026504   \n",
       "Outcome                                               0.122225   \n",
       "pregnancies_categories_0 - 3                         -0.130285   \n",
       "pregnancies_categories_4- 8                          -0.048294   \n",
       "pregnancies_categories_9 - 12                        -0.021640   \n",
       "pregnancies_categories_13 - 17                        1.000000   \n",
       "age_categories_20 - 24                               -0.071724   \n",
       "age_categories_25 - 29                               -0.042604   \n",
       "age_categories_30-39                                  0.013104   \n",
       "age_categories_40 - 49                                0.159588   \n",
       "age_categories_50 - 59                               -0.021640   \n",
       "age_categories_60 - 69                               -0.010574   \n",
       "age_categories_70 - 81                               -0.003714   \n",
       "\n",
       "                                age_categories_20 - 24  \\\n",
       "Glucose                                      -0.231182   \n",
       "BloodPressure                                -0.300951   \n",
       "SkinThickness                                -0.199708   \n",
       "BMI                                          -0.161701   \n",
       "DiabetesPedigreeFunction                     -0.054355   \n",
       "Outcome                                      -0.315478   \n",
       "pregnancies_categories_0 - 3                  0.509677   \n",
       "pregnancies_categories_4- 8                  -0.420894   \n",
       "pregnancies_categories_9 - 12                -0.208371   \n",
       "pregnancies_categories_13 - 17               -0.071724   \n",
       "age_categories_20 - 24                        1.000000   \n",
       "age_categories_25 - 29                       -0.410232   \n",
       "age_categories_30-39                         -0.402998   \n",
       "age_categories_40 - 49                       -0.320376   \n",
       "age_categories_50 - 59                       -0.208371   \n",
       "age_categories_60 - 69                       -0.101813   \n",
       "age_categories_70 - 81                       -0.035762   \n",
       "\n",
       "                                age_categories_25 - 29  age_categories_30-39  \\\n",
       "Glucose                                      -0.008573              0.105474   \n",
       "BloodPressure                                -0.013054              0.099558   \n",
       "SkinThickness                                 0.049713              0.099942   \n",
       "BMI                                           0.086321              0.056134   \n",
       "DiabetesPedigreeFunction                     -0.072965              0.100729   \n",
       "Outcome                                      -0.032299              0.147183   \n",
       "pregnancies_categories_0 - 3                  0.134822             -0.210512   \n",
       "pregnancies_categories_4- 8                  -0.068580              0.225828   \n",
       "pregnancies_categories_9 - 12                -0.123773             -0.001845   \n",
       "pregnancies_categories_13 - 17               -0.042604              0.013104   \n",
       "age_categories_20 - 24                       -0.410232             -0.402998   \n",
       "age_categories_25 - 29                        1.000000             -0.239381   \n",
       "age_categories_30-39                         -0.239381              1.000000   \n",
       "age_categories_40 - 49                       -0.190304             -0.186948   \n",
       "age_categories_50 - 59                       -0.123773             -0.121590   \n",
       "age_categories_60 - 69                       -0.060477             -0.059410   \n",
       "age_categories_70 - 81                       -0.021243             -0.020868   \n",
       "\n",
       "                                age_categories_40 - 49  \\\n",
       "Glucose                                       0.029561   \n",
       "BloodPressure                                 0.182889   \n",
       "SkinThickness                                 0.079059   \n",
       "BMI                                           0.076035   \n",
       "DiabetesPedigreeFunction                      0.003077   \n",
       "Outcome                                       0.195308   \n",
       "pregnancies_categories_0 - 3                 -0.450375   \n",
       "pregnancies_categories_4- 8                   0.288316   \n",
       "pregnancies_categories_9 - 12                 0.300212   \n",
       "pregnancies_categories_13 - 17                0.159588   \n",
       "age_categories_20 - 24                       -0.320376   \n",
       "age_categories_25 - 29                       -0.190304   \n",
       "age_categories_30-39                         -0.186948   \n",
       "age_categories_40 - 49                        1.000000   \n",
       "age_categories_50 - 59                       -0.096662   \n",
       "age_categories_60 - 69                       -0.047230   \n",
       "age_categories_70 - 81                       -0.016590   \n",
       "\n",
       "                                age_categories_50 - 59  \\\n",
       "Glucose                                       0.245802   \n",
       "BloodPressure                                 0.177874   \n",
       "SkinThickness                                 0.002314   \n",
       "BMI                                           0.007418   \n",
       "DiabetesPedigreeFunction                      0.091899   \n",
       "Outcome                                       0.205422   \n",
       "pregnancies_categories_0 - 3                 -0.259371   \n",
       "pregnancies_categories_4- 8                   0.190671   \n",
       "pregnancies_categories_9 - 12                 0.169634   \n",
       "pregnancies_categories_13 - 17               -0.021640   \n",
       "age_categories_20 - 24                       -0.208371   \n",
       "age_categories_25 - 29                       -0.123773   \n",
       "age_categories_30-39                         -0.121590   \n",
       "age_categories_40 - 49                       -0.096662   \n",
       "age_categories_50 - 59                        1.000000   \n",
       "age_categories_60 - 69                       -0.030718   \n",
       "age_categories_70 - 81                       -0.010790   \n",
       "\n",
       "                                age_categories_60 - 69  age_categories_70 - 81  \n",
       "Glucose                                       0.057495                0.018272  \n",
       "BloodPressure                                 0.085349                0.008903  \n",
       "SkinThickness                                 0.094765                0.015814  \n",
       "BMI                                          -0.018220               -0.043920  \n",
       "DiabetesPedigreeFunction                     -0.052524               -0.005573  \n",
       "Outcome                                      -0.021507               -0.030387  \n",
       "pregnancies_categories_0 - 3                 -0.051892               -0.064961  \n",
       "pregnancies_categories_4- 8                   0.003321                0.076905  \n",
       "pregnancies_categories_9 - 12                 0.099115               -0.010790  \n",
       "pregnancies_categories_13 - 17               -0.010574               -0.003714  \n",
       "age_categories_20 - 24                       -0.101813               -0.035762  \n",
       "age_categories_25 - 29                       -0.060477               -0.021243  \n",
       "age_categories_30-39                         -0.059410               -0.020868  \n",
       "age_categories_40 - 49                       -0.047230               -0.016590  \n",
       "age_categories_50 - 59                       -0.030718               -0.010790  \n",
       "age_categories_60 - 69                        1.000000               -0.005272  \n",
       "age_categories_70 - 81                       -0.005272                1.000000  "
      ]
     },
     "execution_count": 228,
     "metadata": {},
     "output_type": "execute_result"
    }
   ],
   "source": [
    "#227 missing values. Skin thickness will be dropped since it can't be imputed.  \n",
    "df_test = df.loc[df.SkinThickness > 0]\n",
    "df_test.corr()"
   ]
  },
  {
   "cell_type": "code",
   "execution_count": 230,
   "metadata": {},
   "outputs": [],
   "source": [
    "df.drop(columns = ['SkinThickness'], axis = 1, inplace = True)"
   ]
  },
  {
   "cell_type": "code",
   "execution_count": 203,
   "metadata": {},
   "outputs": [
    {
     "data": {
      "image/png": "[encoded data removed]",
      "text/plain": [
       "<Figure size 720x504 with 1 Axes>"
      ]
     },
     "metadata": {
      "needs_background": "light"
     },
     "output_type": "display_data"
    }
   ],
   "source": [
    "plt.figure(figsize = (10,7))\n",
    "sns.boxplot(y = 'Glucose', data = df, palette= 'GnBu_d').set_title('Glucose Box Plot')\n",
    "plt.show() \n",
    "#This might be the most beautiful box plot I've ever seen."
   ]
  },
  {
   "cell_type": "code",
   "execution_count": 206,
   "metadata": {},
   "outputs": [
    {
     "data": {
      "image/png": "[encoded data removed]",
      "text/plain": [
       "<Figure size 720x504 with 1 Axes>"
      ]
     },
     "metadata": {
      "needs_background": "light"
     },
     "output_type": "display_data"
    },
    {
     "name": "stdout",
     "output_type": "stream",
     "text": [
      "(10, 17) (4, 17)\n"
     ]
    }
   ],
   "source": [
    "plt.figure(figsize = (10,7))\n",
    "sns.boxplot(y = 'BloodPressure', data = df, palette= 'GnBu_d').set_title('Blood Pressure Box Plot')\n",
    "plt.show() \n",
    "print(df.loc[df.BloodPressure > 105].shape, df.loc[df.BloodPressure <40].shape) #14 outliers"
   ]
  },
  {
   "cell_type": "code",
   "execution_count": 210,
   "metadata": {},
   "outputs": [
    {
     "data": {
      "image/png": "[encoded data removed]",
      "text/plain": [
       "<Figure size 720x504 with 1 Axes>"
      ]
     },
     "metadata": {
      "needs_background": "light"
     },
     "output_type": "display_data"
    },
    {
     "name": "stdout",
     "output_type": "stream",
     "text": [
      "(42, 17)\n"
     ]
    }
   ],
   "source": [
    "plt.figure(figsize = (10,7))\n",
    "sns.boxplot(y = 'DiabetesPedigreeFunction', data = df, palette= 'GnBu_d').set_title('Glucose Box Plot')\n",
    "plt.show() \n",
    "print(df.loc[df.DiabetesPedigreeFunction > 1.1].shape)#About 42 outliers"
   ]
  },
  {
   "cell_type": "code",
   "execution_count": 225,
   "metadata": {},
   "outputs": [],
   "source": [
    "df_test = df.loc[df.SkinThickness > 0]"
   ]
  },
  {
   "cell_type": "code",
   "execution_count": 231,
   "metadata": {},
   "outputs": [
    {
     "data": {
      "text/html": [
       "<div>\n",
       "<style scoped>\n",
       "    .dataframe tbody tr th:only-of-type {\n",
       "        vertical-align: middle;\n",
       "    }\n",
       "\n",
       "    .dataframe tbody tr th {\n",
       "        vertical-align: top;\n",
       "    }\n",
       "\n",
       "    .dataframe thead th {\n",
       "        text-align: right;\n",
       "    }\n",
       "</style>\n",
       "<table border=\"1\" class=\"dataframe\">\n",
       "  <thead>\n",
       "    <tr style=\"text-align: right;\">\n",
       "      <th></th>\n",
       "      <th>Glucose</th>\n",
       "      <th>BloodPressure</th>\n",
       "      <th>BMI</th>\n",
       "      <th>DiabetesPedigreeFunction</th>\n",
       "      <th>Outcome</th>\n",
       "      <th>pregnancies_categories_0 - 3</th>\n",
       "      <th>pregnancies_categories_4- 8</th>\n",
       "      <th>pregnancies_categories_9 - 12</th>\n",
       "      <th>pregnancies_categories_13 - 17</th>\n",
       "      <th>age_categories_20 - 24</th>\n",
       "      <th>age_categories_25 - 29</th>\n",
       "      <th>age_categories_30-39</th>\n",
       "      <th>age_categories_40 - 49</th>\n",
       "      <th>age_categories_50 - 59</th>\n",
       "      <th>age_categories_60 - 69</th>\n",
       "      <th>age_categories_70 - 81</th>\n",
       "    </tr>\n",
       "  </thead>\n",
       "  <tbody>\n",
       "    <tr>\n",
       "      <th>0</th>\n",
       "      <td>148.0</td>\n",
       "      <td>72.0</td>\n",
       "      <td>33.6</td>\n",
       "      <td>0.627</td>\n",
       "      <td>1</td>\n",
       "      <td>0</td>\n",
       "      <td>1</td>\n",
       "      <td>0</td>\n",
       "      <td>0</td>\n",
       "      <td>0</td>\n",
       "      <td>0</td>\n",
       "      <td>0</td>\n",
       "      <td>1</td>\n",
       "      <td>0</td>\n",
       "      <td>0</td>\n",
       "      <td>0</td>\n",
       "    </tr>\n",
       "    <tr>\n",
       "      <th>1</th>\n",
       "      <td>85.0</td>\n",
       "      <td>66.0</td>\n",
       "      <td>26.6</td>\n",
       "      <td>0.351</td>\n",
       "      <td>0</td>\n",
       "      <td>1</td>\n",
       "      <td>0</td>\n",
       "      <td>0</td>\n",
       "      <td>0</td>\n",
       "      <td>0</td>\n",
       "      <td>0</td>\n",
       "      <td>1</td>\n",
       "      <td>0</td>\n",
       "      <td>0</td>\n",
       "      <td>0</td>\n",
       "      <td>0</td>\n",
       "    </tr>\n",
       "    <tr>\n",
       "      <th>2</th>\n",
       "      <td>183.0</td>\n",
       "      <td>64.0</td>\n",
       "      <td>23.3</td>\n",
       "      <td>0.672</td>\n",
       "      <td>1</td>\n",
       "      <td>0</td>\n",
       "      <td>1</td>\n",
       "      <td>0</td>\n",
       "      <td>0</td>\n",
       "      <td>0</td>\n",
       "      <td>0</td>\n",
       "      <td>1</td>\n",
       "      <td>0</td>\n",
       "      <td>0</td>\n",
       "      <td>0</td>\n",
       "      <td>0</td>\n",
       "    </tr>\n",
       "    <tr>\n",
       "      <th>3</th>\n",
       "      <td>89.0</td>\n",
       "      <td>66.0</td>\n",
       "      <td>28.1</td>\n",
       "      <td>0.167</td>\n",
       "      <td>0</td>\n",
       "      <td>1</td>\n",
       "      <td>0</td>\n",
       "      <td>0</td>\n",
       "      <td>0</td>\n",
       "      <td>1</td>\n",
       "      <td>0</td>\n",
       "      <td>0</td>\n",
       "      <td>0</td>\n",
       "      <td>0</td>\n",
       "      <td>0</td>\n",
       "      <td>0</td>\n",
       "    </tr>\n",
       "    <tr>\n",
       "      <th>4</th>\n",
       "      <td>137.0</td>\n",
       "      <td>40.0</td>\n",
       "      <td>43.1</td>\n",
       "      <td>2.288</td>\n",
       "      <td>1</td>\n",
       "      <td>1</td>\n",
       "      <td>0</td>\n",
       "      <td>0</td>\n",
       "      <td>0</td>\n",
       "      <td>0</td>\n",
       "      <td>0</td>\n",
       "      <td>1</td>\n",
       "      <td>0</td>\n",
       "      <td>0</td>\n",
       "      <td>0</td>\n",
       "      <td>0</td>\n",
       "    </tr>\n",
       "  </tbody>\n",
       "</table>\n",
       "</div>"
      ],
      "text/plain": [
       "   Glucose  BloodPressure   BMI  DiabetesPedigreeFunction  Outcome  \\\n",
       "0    148.0           72.0  33.6                     0.627        1   \n",
       "1     85.0           66.0  26.6                     0.351        0   \n",
       "2    183.0           64.0  23.3                     0.672        1   \n",
       "3     89.0           66.0  28.1                     0.167        0   \n",
       "4    137.0           40.0  43.1                     2.288        1   \n",
       "\n",
       "   pregnancies_categories_0 - 3  pregnancies_categories_4- 8  \\\n",
       "0                             0                            1   \n",
       "1                             1                            0   \n",
       "2                             0                            1   \n",
       "3                             1                            0   \n",
       "4                             1                            0   \n",
       "\n",
       "   pregnancies_categories_9 - 12  pregnancies_categories_13 - 17  \\\n",
       "0                              0                               0   \n",
       "1                              0                               0   \n",
       "2                              0                               0   \n",
       "3                              0                               0   \n",
       "4                              0                               0   \n",
       "\n",
       "   age_categories_20 - 24  age_categories_25 - 29  age_categories_30-39  \\\n",
       "0                       0                       0                     0   \n",
       "1                       0                       0                     1   \n",
       "2                       0                       0                     1   \n",
       "3                       1                       0                     0   \n",
       "4                       0                       0                     1   \n",
       "\n",
       "   age_categories_40 - 49  age_categories_50 - 59  age_categories_60 - 69  \\\n",
       "0                       1                       0                       0   \n",
       "1                       0                       0                       0   \n",
       "2                       0                       0                       0   \n",
       "3                       0                       0                       0   \n",
       "4                       0                       0                       0   \n",
       "\n",
       "   age_categories_70 - 81  \n",
       "0                       0  \n",
       "1                       0  \n",
       "2                       0  \n",
       "3                       0  \n",
       "4                       0  "
      ]
     },
     "execution_count": 231,
     "metadata": {},
     "output_type": "execute_result"
    }
   ],
   "source": [
    "df.head()"
   ]
  },
  {
   "cell_type": "code",
   "execution_count": null,
   "metadata": {},
   "outputs": [],
   "source": [
    "#Ai now time to standardize some ish"
   ]
  },
  {
   "cell_type": "code",
   "execution_count": 233,
   "metadata": {},
   "outputs": [
    {
     "name": "stderr",
     "output_type": "stream",
     "text": [
      "C:\\Users\\ar344\\Anaconda3\\lib\\site-packages\\scipy\\stats\\stats.py:1713: FutureWarning: Using a non-tuple sequence for multidimensional indexing is deprecated; use `arr[tuple(seq)]` instead of `arr[seq]`. In the future this will be interpreted as an array index, `arr[np.array(seq)]`, which will result either in an error or a different result.\n",
      "  return np.add.reduce(sorted[indexer] * weights, axis=axis) / sumval\n"
     ]
    },
    {
     "data": {
      "text/plain": [
       "<matplotlib.axes._subplots.AxesSubplot at 0x178d0f84240>"
      ]
     },
     "execution_count": 233,
     "metadata": {},
     "output_type": "execute_result"
    },
    {
     "data": {
      "image/png": "[encoded data removed]",
      "text/plain": [
       "<Figure size 432x288 with 1 Axes>"
      ]
     },
     "metadata": {
      "needs_background": "light"
     },
     "output_type": "display_data"
    }
   ],
   "source": [
    "sns.distplot(df.DiabetesPedigreeFunction)"
   ]
  },
  {
   "cell_type": "code",
   "execution_count": 232,
   "metadata": {},
   "outputs": [],
   "source": [
    "from sklearn import preprocessing"
   ]
  },
  {
   "cell_type": "code",
   "execution_count": 236,
   "metadata": {},
   "outputs": [],
   "source": [
    "#Putting columns that will be normalized in a list\n",
    "n_test = df[['Glucose', 'BloodPressure', 'BMI', 'DiabetesPedigreeFunction']]\n",
    "cols_to_norm = ['Glucose', 'BloodPressure', 'BMI', 'DiabetesPedigreeFunction']\n",
    "x = n_test.values\n",
    "min_max_scaler = preprocessing.MinMaxScaler()\n",
    "x_scaled = min_max_scaler.fit_transform(x)\n",
    "n_test = pd.DataFrame(x_scaled, columns = cols_to_norm)"
   ]
  },
  {
   "cell_type": "code",
   "execution_count": 239,
   "metadata": {},
   "outputs": [],
   "source": [
    "new_df = df.drop(cols_to_norm, axis = 1)\n",
    "new_df = pd.concat([n_test, new_df ], axis = 1)"
   ]
  },
  {
   "cell_type": "code",
   "execution_count": 240,
   "metadata": {},
   "outputs": [
    {
     "data": {
      "text/html": [
       "<div>\n",
       "<style scoped>\n",
       "    .dataframe tbody tr th:only-of-type {\n",
       "        vertical-align: middle;\n",
       "    }\n",
       "\n",
       "    .dataframe tbody tr th {\n",
       "        vertical-align: top;\n",
       "    }\n",
       "\n",
       "    .dataframe thead th {\n",
       "        text-align: right;\n",
       "    }\n",
       "</style>\n",
       "<table border=\"1\" class=\"dataframe\">\n",
       "  <thead>\n",
       "    <tr style=\"text-align: right;\">\n",
       "      <th></th>\n",
       "      <th>Glucose</th>\n",
       "      <th>BloodPressure</th>\n",
       "      <th>BMI</th>\n",
       "      <th>DiabetesPedigreeFunction</th>\n",
       "      <th>Outcome</th>\n",
       "      <th>pregnancies_categories_0 - 3</th>\n",
       "      <th>pregnancies_categories_4- 8</th>\n",
       "      <th>pregnancies_categories_9 - 12</th>\n",
       "      <th>pregnancies_categories_13 - 17</th>\n",
       "      <th>age_categories_20 - 24</th>\n",
       "      <th>age_categories_25 - 29</th>\n",
       "      <th>age_categories_30-39</th>\n",
       "      <th>age_categories_40 - 49</th>\n",
       "      <th>age_categories_50 - 59</th>\n",
       "      <th>age_categories_60 - 69</th>\n",
       "      <th>age_categories_70 - 81</th>\n",
       "    </tr>\n",
       "  </thead>\n",
       "  <tbody>\n",
       "    <tr>\n",
       "      <th>0</th>\n",
       "      <td>0.670968</td>\n",
       "      <td>0.489796</td>\n",
       "      <td>0.314928</td>\n",
       "      <td>0.234415</td>\n",
       "      <td>1</td>\n",
       "      <td>0</td>\n",
       "      <td>1</td>\n",
       "      <td>0</td>\n",
       "      <td>0</td>\n",
       "      <td>0</td>\n",
       "      <td>0</td>\n",
       "      <td>0</td>\n",
       "      <td>1</td>\n",
       "      <td>0</td>\n",
       "      <td>0</td>\n",
       "      <td>0</td>\n",
       "    </tr>\n",
       "    <tr>\n",
       "      <th>1</th>\n",
       "      <td>0.264516</td>\n",
       "      <td>0.428571</td>\n",
       "      <td>0.171779</td>\n",
       "      <td>0.116567</td>\n",
       "      <td>0</td>\n",
       "      <td>1</td>\n",
       "      <td>0</td>\n",
       "      <td>0</td>\n",
       "      <td>0</td>\n",
       "      <td>0</td>\n",
       "      <td>0</td>\n",
       "      <td>1</td>\n",
       "      <td>0</td>\n",
       "      <td>0</td>\n",
       "      <td>0</td>\n",
       "      <td>0</td>\n",
       "    </tr>\n",
       "    <tr>\n",
       "      <th>2</th>\n",
       "      <td>0.896774</td>\n",
       "      <td>0.408163</td>\n",
       "      <td>0.104294</td>\n",
       "      <td>0.253629</td>\n",
       "      <td>1</td>\n",
       "      <td>0</td>\n",
       "      <td>1</td>\n",
       "      <td>0</td>\n",
       "      <td>0</td>\n",
       "      <td>0</td>\n",
       "      <td>0</td>\n",
       "      <td>1</td>\n",
       "      <td>0</td>\n",
       "      <td>0</td>\n",
       "      <td>0</td>\n",
       "      <td>0</td>\n",
       "    </tr>\n",
       "    <tr>\n",
       "      <th>3</th>\n",
       "      <td>0.290323</td>\n",
       "      <td>0.428571</td>\n",
       "      <td>0.202454</td>\n",
       "      <td>0.038002</td>\n",
       "      <td>0</td>\n",
       "      <td>1</td>\n",
       "      <td>0</td>\n",
       "      <td>0</td>\n",
       "      <td>0</td>\n",
       "      <td>1</td>\n",
       "      <td>0</td>\n",
       "      <td>0</td>\n",
       "      <td>0</td>\n",
       "      <td>0</td>\n",
       "      <td>0</td>\n",
       "      <td>0</td>\n",
       "    </tr>\n",
       "    <tr>\n",
       "      <th>4</th>\n",
       "      <td>0.600000</td>\n",
       "      <td>0.163265</td>\n",
       "      <td>0.509202</td>\n",
       "      <td>0.943638</td>\n",
       "      <td>1</td>\n",
       "      <td>1</td>\n",
       "      <td>0</td>\n",
       "      <td>0</td>\n",
       "      <td>0</td>\n",
       "      <td>0</td>\n",
       "      <td>0</td>\n",
       "      <td>1</td>\n",
       "      <td>0</td>\n",
       "      <td>0</td>\n",
       "      <td>0</td>\n",
       "      <td>0</td>\n",
       "    </tr>\n",
       "  </tbody>\n",
       "</table>\n",
       "</div>"
      ],
      "text/plain": [
       "    Glucose  BloodPressure       BMI  DiabetesPedigreeFunction  Outcome  \\\n",
       "0  0.670968       0.489796  0.314928                  0.234415        1   \n",
       "1  0.264516       0.428571  0.171779                  0.116567        0   \n",
       "2  0.896774       0.408163  0.104294                  0.253629        1   \n",
       "3  0.290323       0.428571  0.202454                  0.038002        0   \n",
       "4  0.600000       0.163265  0.509202                  0.943638        1   \n",
       "\n",
       "   pregnancies_categories_0 - 3  pregnancies_categories_4- 8  \\\n",
       "0                             0                            1   \n",
       "1                             1                            0   \n",
       "2                             0                            1   \n",
       "3                             1                            0   \n",
       "4                             1                            0   \n",
       "\n",
       "   pregnancies_categories_9 - 12  pregnancies_categories_13 - 17  \\\n",
       "0                              0                               0   \n",
       "1                              0                               0   \n",
       "2                              0                               0   \n",
       "3                              0                               0   \n",
       "4                              0                               0   \n",
       "\n",
       "   age_categories_20 - 24  age_categories_25 - 29  age_categories_30-39  \\\n",
       "0                       0                       0                     0   \n",
       "1                       0                       0                     1   \n",
       "2                       0                       0                     1   \n",
       "3                       1                       0                     0   \n",
       "4                       0                       0                     1   \n",
       "\n",
       "   age_categories_40 - 49  age_categories_50 - 59  age_categories_60 - 69  \\\n",
       "0                       1                       0                       0   \n",
       "1                       0                       0                       0   \n",
       "2                       0                       0                       0   \n",
       "3                       0                       0                       0   \n",
       "4                       0                       0                       0   \n",
       "\n",
       "   age_categories_70 - 81  \n",
       "0                       0  \n",
       "1                       0  \n",
       "2                       0  \n",
       "3                       0  \n",
       "4                       0  "
      ]
     },
     "execution_count": 240,
     "metadata": {},
     "output_type": "execute_result"
    }
   ],
   "source": [
    "new_df.head()#This new df has all the normalized values we need. "
   ]
  },
  {
   "cell_type": "code",
   "execution_count": 242,
   "metadata": {},
   "outputs": [],
   "source": [
    "new_df.to_csv('diabetes_final.csv')"
   ]
  },
  {
   "cell_type": "code",
   "execution_count": null,
   "metadata": {},
   "outputs": [],
   "source": []
  }
 ],
 "metadata": {
  "kernelspec": {
   "display_name": "Python 3",
   "language": "python",
   "name": "python3"
  },
  "language_info": {
   "codemirror_mode": {
    "name": "ipython",
    "version": 3
   },
   "file_extension": ".py",
   "mimetype": "text/x-python",
   "name": "python",
   "nbconvert_exporter": "python",
   "pygments_lexer": "ipython3",
   "version": "3.7.1"
  }
 },
 "nbformat": 4,
 "nbformat_minor": 2
}
